{
 "cells": [
  {
   "cell_type": "code",
   "execution_count": 1,
   "metadata": {},
   "outputs": [
    {
     "name": "stderr",
     "output_type": "stream",
     "text": [
      "/home/pkllee/anaconda2/envs/tf3/lib/python3.6/site-packages/h5py/__init__.py:36: FutureWarning: Conversion of the second argument of issubdtype from `float` to `np.floating` is deprecated. In future, it will be treated as `np.float64 == np.dtype(float).type`.\n",
      "  from ._conv import register_converters as _register_converters\n"
     ]
    },
    {
     "name": "stdout",
     "output_type": "stream",
     "text": [
      "env: CUDA_DEVICE_ORDER=PCI_BUS_ID\n",
      "env: CUDA_VISIBLE_DEVICES=''\n"
     ]
    }
   ],
   "source": [
    "from bloch.utils import *\n",
    "from bloch.epg_transforms import *\n",
    "\n",
    "import autograd.numpy as np\n",
    "# no GPUs\n",
    "%env CUDA_DEVICE_ORDER=PCI_BUS_ID\n",
    "%env CUDA_VISIBLE_DEVICES=''\n",
    "\n",
    "import tensorflow as tf\n",
    "\n",
    "import scipy.optimize\n",
    "\n",
    "import matplotlib.pyplot as plt\n",
    "import time as time\n",
    "\n",
    "%load_ext autoreload\n",
    "%autoreload 2\n",
    "\n",
    "%matplotlib notebook"
   ]
  },
  {
   "cell_type": "code",
   "execution_count": 2,
   "metadata": {},
   "outputs": [],
   "source": [
    "def make_despot1_tf_graph(do_log=False, do_ratio_correction=True):    \n",
    "    \n",
    "    despot1_tf_graph = tf.Graph()\n",
    "    \n",
    "    with despot1_tf_graph.as_default():\n",
    "        # declare constant sequence parameters\n",
    "        N = 400 # number of TRs to simulate\n",
    "        N_stop = -1 # point at which to stop the gradient propagation\n",
    "        M0_var = tf.Variable(1.0, name='M0')\n",
    "        \n",
    "        T1_var, T2_var = (tf.Variable(1645., name='T1'), tf.Variable(50., name='T2'))\n",
    "        TR = tf.constant(10., name='TR')        \n",
    "        TE = tf.constant(5., name='TE')\n",
    "        \n",
    "              \n",
    "        # declare some helper functions\n",
    "        def phi_k(k): # quadratic phase in degrees\n",
    "            phi = 117. * k * (k + 1.)/2.\n",
    "            return tf.constant(phi)\n",
    "        \n",
    "        def tf_concat_echos(echos, FZ_echo):\n",
    "            with tf.name_scope('concat_echo') as scope:\n",
    "                echo = tf.expand_dims(tf.real(tf_FZ0_to_M(FZ_echo))[:, 0], 1) # to make same size as M_echos\n",
    "                echos = tf.concat((echos, echo), axis=1)                \n",
    "            return echos\n",
    "        \n",
    "        def tf_echo_intensity(a, b):\n",
    "            with tf.name_scope('intensity'):\n",
    "                 out = tf.sqrt(a * a + b * b)\n",
    "            return out\n",
    "        \n",
    "        def tf_sind(angle):\n",
    "            with tf.name_scope('sind'):\n",
    "                out = tf.sin(angle * np.pi/180.)\n",
    "            return out\n",
    "        \n",
    "        def tf_tand(angle):            \n",
    "            with tf.name_scope('tand'):\n",
    "                out = tf.tan(angle * np.pi/180.)\n",
    "            return out\n",
    "\n",
    "        # create variables to optimize over\n",
    "        alpha1_var = tf.Variable(0., name='alpha1')\n",
    "        alpha2_var = tf.Variable(0., name='alpha2')\n",
    "        # Since we simulate the same sequence twice for two different alphas, it makes sense to have a function\n",
    "        # that builds a graph for one despot1 acquisition\n",
    "        #\n",
    "        # Recycle the relax_TE, relax_TR_minus_TE, and grad_FZ operators to slightly reduce the size of the graph\n",
    "        # The RF cannot be recycled because the phi changes quadratically\n",
    "        #\n",
    "        # @params alpha_var tf variable with the value for flip in degrees\n",
    "        def tf_simulate_despot1(alpha_var): \n",
    "            M_echos = tf.zeros([3, 1])\n",
    "            with tf.name_scope('despot1_acq') as scope:\n",
    "                # build computation graph\n",
    "                FZ_init = tf_get_FZ_init(M0_var)        \n",
    "                FZ_preflip = FZ_init \n",
    "                \n",
    "                f_relax_TE = tf_get_relax_epg(M0_var, TE, T1_var, T2_var)\n",
    "                f_relax_TR_minus_TE = tf_get_relax_epg(M0_var, TR - TE, T1_var, T2_var)\n",
    "\n",
    "                # simulate sequence for alpha\n",
    "                for ii in range(0, N):\n",
    "                    with tf.name_scope('despot1_TR') as scope:\n",
    "                        phi = phi_k(ii)\n",
    "\n",
    "                        FZ_1 = tf_rf_FZ(FZ_preflip, alpha_var, phi)   \n",
    "                        \n",
    "                        \"\"\" Explicit operators with no reuse of relax operator \"\"\"\n",
    "                        #FZ_echo = tf_relax_FZ(FZ_1, M0, TE, T1, T2)  # accumulated time = TE\n",
    "                        #FZ_preflip = tf_grad_FZ(tf_relax_FZ(FZ_echo, M0, TR - TE, T1, T2)) # accumulated time = TR                       \n",
    "                        \n",
    "                        \"\"\" Reuse relax operator to reduce graph size\"\"\"\n",
    "                        FZ_echo = f_relax_TE(FZ_1)\n",
    "                        FZ_preflip = tf_grad_FZ(f_relax_TR_minus_TE(FZ_echo))\n",
    "\n",
    "                        M_echos = tf_concat_echos(M_echos, FZ_echo)\n",
    "            return M_echos\n",
    "                \n",
    "        M_echos_1 = tf_simulate_despot1(alpha1_var)\n",
    "        M_echos_2 = tf_simulate_despot1(alpha2_var)\n",
    "        M_ss_1 = tf_echo_intensity(M_echos_1[0, -1], M_echos_1[1, -1])\n",
    "        M_ss_2 = tf_echo_intensity(M_echos_2[0, -1], M_echos_2[1, -1])\n",
    "        \n",
    "        with tf.name_scope('estimate_T1') as scope:\n",
    "            R = (M_ss_2/tf_sind(alpha2_var) - M_ss_1/tf_sind(alpha1_var))\n",
    "            S = (M_ss_2/tf_tand(alpha2_var) - M_ss_1/tf_tand(alpha1_var))\n",
    "            ratio_image = R/S                            \n",
    "                            \n",
    "            T1_guess = -TR / tf.log(ratio_image)            \n",
    "\n",
    "        with tf.name_scope('crb') as scope:\n",
    "            if(do_ratio_correction):\n",
    "                J = tf.gradients(ratio_image, T1_var, name='dM_dtiss_param') # tf gradients returns a list\n",
    "                fim = J[0] * J[0] # fischer information matrix\n",
    "                V = 1. / fim            \n",
    "\n",
    "                # similar to DESS ratio correction, but includes a bias term since the numerator and denominator noise\n",
    "                # are correlated Z = R/S\n",
    "                sigma_squared_R = tf.square(1./tf_sind(alpha2_var)) + tf.square(1./tf_sind(alpha1_var))\n",
    "                sigma_squared_S = tf.square(1./tf_tand(alpha2_var)) + tf.square(1./tf_tand(alpha1_var))\n",
    "                cov_RS = 1./(tf_sind(alpha2_var) * tf_tand(alpha2_var)) + 1./(tf_sind(alpha1_var) * tf_tand(alpha1_var))\n",
    "\n",
    "                ratio_correction = tf.square(R)/tf.square(S) * \\\n",
    "                (sigma_squared_R/tf.square(R) + sigma_squared_S/tf.square(S) - \\\n",
    "                 2. * cov_RS/(S * R))\n",
    "\n",
    "                crb = V * ratio_correction\n",
    "            else:\n",
    "                J1_M0 = tf.gradients(M_ss_1, M0_var, name='dM1_dM0')[0] # have to split gradients calls since TF sums them\n",
    "                J2_M0 = tf.gradients(M_ss_2, M0_var, name='dM2_dM0')[0]\n",
    "\n",
    "                J1_T1 = tf.gradients(M_ss_1, T1_var, name='dM1_dT1')[0]\n",
    "                J2_T1 = tf.gradients(M_ss_2, T1_var, name='dM2_dT1')[0]\n",
    "\n",
    "                fim = tf.convert_to_tensor([[J1_M0 * J1_M0, J1_T1 * J1_M0], [J1_M0 * J1_T1, J1_T1 * J1_T1]]) + \\\n",
    "                      tf.convert_to_tensor([[J2_M0 * J2_M0, J2_M0 * J2_T1], [J2_T1 * J2_M0, J2_T1 * J2_T1]])\n",
    "\n",
    "                crb = tf.trace(tf.linalg.inv(fim))\n",
    "       \n",
    "        if(do_log):\n",
    "            tf.summary.FileWriter('./tmp/', despot1_tf_graph)      \n",
    "            \n",
    "        despot1_graph_session = tf.Session()\n",
    "        \n",
    "        def run_despot1_tf_graph(T1, T2, alpha1, alpha2, tensors_to_eval):\n",
    "            alpha1_assign_op = alpha1_var.assign(alpha1)\n",
    "            alpha2_assign_op = alpha2_var.assign(alpha2)\n",
    "            \n",
    "            T1_assign_op = T1_var.assign(T1)\n",
    "            T2_assign_op = T2_var.assign(T2)\n",
    "\n",
    "            M0_assign_op = M0_var.assign(1.0)\n",
    "            \n",
    "            with despot1_tf_graph.as_default():\n",
    "                despot1_graph_session.run([M0_assign_op, alpha1_assign_op, alpha2_assign_op, T1_assign_op, T2_assign_op])                \n",
    "                out = despot1_graph_session.run(tensors_to_eval)\n",
    "\n",
    "            return out\n",
    "        \n",
    "        def crb_obj(T1, T2, alpha1, alpha2):            \n",
    "            tensors_to_eval = [T1_guess, crb]\n",
    "            T1_guess_eval, crb_eval = run_despot1_tf_graph(T1, T2, alpha1, alpha2, tensors_to_eval)\n",
    "            \n",
    "            return T1_guess_eval, crb_eval\n",
    "        \n",
    "        def despot1_get_M(T1, T2, alpha1, alpha2): # just does the bloch simulation\n",
    "            M_echos_1_eval, M_echos_2_eval, T1_guess_eval = run_despot1_tf_graph(T1, T2, alpha1, alpha2, [M_echos_1, M_echos_2, T1_guess])\n",
    "            return M_echos_1_eval, M_echos_2_eval, T1_guess_eval\n",
    "        \n",
    "        def despot1_debug(T1, T2, alpha1, alpha2): # for choosing specific tensors            \n",
    "            out = run_despot1_tf_graph(T1, T2, alpha1, alpha2, cov_RS)\n",
    "            return out\n",
    "                \n",
    "    \n",
    "    return despot1_get_M, crb_obj, despot1_debug\n",
    "        \n",
    "        "
   ]
  },
  {
   "cell_type": "code",
   "execution_count": 3,
   "metadata": {},
   "outputs": [],
   "source": [
    "ratio_correction = False    \n",
    "do_log = False\n",
    "despot1_get_M, crb_obj, despot1_debug = make_despot1_tf_graph(do_log, ratio_correction)"
   ]
  },
  {
   "cell_type": "code",
   "execution_count": 4,
   "metadata": {},
   "outputs": [
    {
     "name": "stdout",
     "output_type": "stream",
     "text": [
      "N_states : 10\n"
     ]
    }
   ],
   "source": [
    "alpha1 = 1.85\n",
    "alpha2 = 10.75\n",
    "#T1_graymatter = 1331.\n",
    "#T2_graymatter = 80.\n",
    "\n",
    "T1 = 1645. # values used in manuscript\n",
    "T2 = 50.\n",
    "\n",
    "#out = despot1_debug(T1_graymatter, T2_graymatter, alpha1, alpha2)\n",
    "#print(out)\n",
    "print('N_states : ' + str(get_N_states_epg()))"
   ]
  },
  {
   "cell_type": "markdown",
   "metadata": {},
   "source": [
    "##  Plot echos"
   ]
  },
  {
   "cell_type": "code",
   "execution_count": 5,
   "metadata": {},
   "outputs": [],
   "source": [
    "alpha1 = 1.85\n",
    "alpha2 = 10.75\n",
    "\n",
    "M_echos_1_eval, M_echos_2_eval, T1_guess_eval = despot1_get_M(T1, T2, alpha1, alpha2)\n",
    "_, crb_eval = crb_obj(T1, T2, alpha1, alpha2)"
   ]
  },
  {
   "cell_type": "code",
   "execution_count": 6,
   "metadata": {},
   "outputs": [
    {
     "name": "stdout",
     "output_type": "stream",
     "text": [
      "Estimated T1:\n",
      "1682.3345\n",
      "CRB:\n",
      "10692303000.0\n",
      "Steady State S1:\n",
      "0.027090782487562453\n",
      "Steady State S2:\n",
      "0.043160142810474166\n"
     ]
    },
    {
     "data": {
      "image/png": "[encoded data removed]",
      "text/plain": [
       "<Figure size 432x288 with 2 Axes>"
      ]
     },
     "metadata": {},
     "output_type": "display_data"
    },
    {
     "data": {
      "image/png": "[encoded data removed]",
      "text/plain": [
       "<Figure size 432x288 with 2 Axes>"
      ]
     },
     "metadata": {},
     "output_type": "display_data"
    }
   ],
   "source": [
    "# M_echos should be a 3xN np array\n",
    "def plot_echos(M_echos, title=''):\n",
    "    \n",
    "    def plot_train(_y, _y_label='', _y_lim=[-1, 1]):\n",
    "        plt.plot(_y)\n",
    "        plt.ylim(_y_lim)\n",
    "        plt.ylabel(_y_label)\n",
    "    \n",
    "    plt.figure()\n",
    "    plt.subplot(211)    \n",
    "    plot_train(M_echos[0, :])\n",
    "    plot_train(M_echos[1, :])\n",
    "    plot_train(np.sqrt(np.power(M_echos[0, :], 2) + np.power(M_echos[1, :], 2)), _y_lim=[-0.1, 0.1]) # only ylim last plot\n",
    "    plt.title(title)\n",
    "    plt.legend(['Mx', 'My', 'magnitude'])\n",
    "    plt.subplot(212)\n",
    "    plot_train(M_echos[2, :], 'Mz')\n",
    "    \n",
    "    plt.show()\n",
    "\n",
    "print('Estimated T1:')    \n",
    "print(T1_guess_eval)  \n",
    "print('CRB:')\n",
    "print(crb_eval)\n",
    "print('Steady State S1:')\n",
    "print(np.sqrt(np.power(M_echos_1_eval[0, -1], 2) + np.power(M_echos_1_eval[1, -1], 2)))\n",
    "print('Steady State S2:')\n",
    "print(np.sqrt(np.power(M_echos_2_eval[0, -1], 2) + np.power(M_echos_2_eval[1, -1], 2)))\n",
    "    \n",
    "plot_echos(M_echos_1_eval, 'Echo 1')\n",
    "plot_echos(M_echos_2_eval, 'Echo 2')"
   ]
  },
  {
   "cell_type": "markdown",
   "metadata": {},
   "source": [
    "# 1D CRB Plot"
   ]
  },
  {
   "cell_type": "code",
   "execution_count": 7,
   "metadata": {},
   "outputs": [],
   "source": [
    "# 1D plot\n",
    "alpha1s = np.linspace(5, 18, num=15)\n",
    "alpha2 = 1.85\n",
    "\n",
    "T1_guess_list = []\n",
    "crb_list = []\n",
    "for alpha1 in alpha1s:\n",
    "    T1_guess_eval, crb_eval = crb_obj(T1, T2, alpha1, alpha2)\n",
    "    \n",
    "    T1_guess_list.append(T1_guess_eval)\n",
    "    crb_list.append(crb_eval)"
   ]
  },
  {
   "cell_type": "code",
   "execution_count": 8,
   "metadata": {},
   "outputs": [
    {
     "data": {
      "text/plain": [
       "[<matplotlib.lines.Line2D at 0x7fbb004b15f8>]"
      ]
     },
     "execution_count": 8,
     "metadata": {},
     "output_type": "execute_result"
    },
    {
     "data": {
      "image/png": "[encoded data removed]",
      "text/plain": [
       "<Figure size 432x288 with 2 Axes>"
      ]
     },
     "metadata": {},
     "output_type": "display_data"
    }
   ],
   "source": [
    "plt.figure()\n",
    "plt.subplot(211)\n",
    "plt.plot(alpha1s, crb_list)\n",
    "plt.ylabel('crb')\n",
    "plt.subplot(212)\n",
    "plt.plot(alpha1s, T1_guess_list)"
   ]
  },
  {
   "cell_type": "markdown",
   "metadata": {},
   "source": [
    "## Make wrapper for crb objective function"
   ]
  },
  {
   "cell_type": "code",
   "execution_count": 9,
   "metadata": {},
   "outputs": [],
   "source": [
    "do_timer = False\n",
    "\n",
    "# make a wrapper, which accepts a numpy array, with order [alpha1, alpha2], args must be a tuple (T1, T2)\n",
    "def crb_obj_wrapper(x, *args):    \n",
    "    T1, T2 = args\n",
    "    \n",
    "    start = time.time()\n",
    "    _, crb_eval = crb_obj(T1, T2, x[0], x[1])   \n",
    "    crb_eval = crb_eval / 1e7 # need to divide by constant so that numerical gradient is within reasonable range\n",
    "    \n",
    "    if(do_timer):\n",
    "        print('time: ' + str(time.time() - start))\n",
    "        print(x)\n",
    "        print('crb: ' + str(crb_eval))            \n",
    "    \n",
    "    return crb_eval"
   ]
  },
  {
   "cell_type": "markdown",
   "metadata": {},
   "source": [
    "## Do Optimization"
   ]
  },
  {
   "cell_type": "code",
   "execution_count": null,
   "metadata": {
    "scrolled": true
   },
   "outputs": [
    {
     "name": "stdout",
     "output_type": "stream",
     "text": [
      "X_init_alpha ii: 0 jj: 0 [1. 7.]\n",
      "  NIT    FC           OBJFUN            GNORM\n",
      "alpha : [23.00003279 25.        ]\n",
      "    1     4     4.593712E+03     6.554614E+03\n",
      "alpha : [ 1.         23.46986677]\n",
      "    2     9     1.145124E+03     2.906126E+02\n"
     ]
    }
   ],
   "source": [
    "start_time = time.time()\n",
    "\n",
    "# makes sure flip angles have a difference > X (avoids low snr in difference)\n",
    "def flip_angle_ieqcons(x, *args):\n",
    "    flip_angle_difference = 2.\n",
    "    return (np.abs(x[0] - x[1]) - flip_angle_difference) \n",
    "\n",
    "def slsqp_callback(x):\n",
    "    print('alpha : ' + str(x))\n",
    "        \n",
    "# optimize jointly over alpha1, alpha2\n",
    "K = 5\n",
    "x_init_alpha_1_sweep = np.linspace(1., 19., num=K)\n",
    "x_init_alpha_2_sweep = np.linspace(7., 23., num=K) # don't initialize with same alphas or there are nans\n",
    "\n",
    "args_in = (T1, T2)\n",
    "\n",
    "\n",
    "x_optimal_list = np.array([[0], [0]])\n",
    "fx_optimal_list = np.array([0])\n",
    "\n",
    "# use a double for loop so that we don't repeat combinations\n",
    "for ii in range(0, K):\n",
    "    for jj in range(ii, K):\n",
    "\n",
    "        x_init = np.array([x_init_alpha_1_sweep[ii], x_init_alpha_2_sweep[jj]]) # degrees\n",
    "        \n",
    "        print('X_init_alpha ii: ' + str(ii) + ' jj: ' + str(jj) + ' ' + str(x_init))        \n",
    "        \n",
    "        x_bounds = [(1., 25.), (1., 25.)] # degrees\n",
    "\n",
    "        optimize_args = {'bounds': x_bounds, 'iprint': 2, 'epsilon': 0.1, \n",
    "                         'ieqcons': [flip_angle_ieqcons], 'callback':slsqp_callback, 'iter': 10} # epsilon is step size in degrees\n",
    "        #optimize_args = {'iprint': 2, 'epsilon': 0.1}\n",
    "\n",
    "        x_optimal, fx, its, imode, smode = scipy.optimize.fmin_slsqp(crb_obj_wrapper, \n",
    "                                  x_init,\n",
    "                                  **optimize_args,\n",
    "                                  args=args_in,\n",
    "                                  full_output=True)\n",
    "\n",
    "        alpha_1_opt = x_optimal[0]\n",
    "        alpha_2_opt = x_optimal[1]\n",
    "\n",
    "        x_optimal_list = np.concatenate((x_optimal_list, x_optimal[:, np.newaxis]), axis=1)\n",
    "        fx_optimal_list = np.concatenate((fx_optimal_list, np.array([fx])), axis=0)\n",
    "        \n",
    "        print('Solution')\n",
    "        print(x_optimal)\n",
    "        \n",
    "        T1_guess, _ = crb_obj(T1, T2, x_optimal[0], x_optimal[1])\n",
    "        print('Guessed T1:')\n",
    "        print(T1_guess)\n",
    "\n",
    "elapsed_time = time.time() - start_time\n",
    "print(elapsed_time)"
   ]
  },
  {
   "cell_type": "code",
   "execution_count": null,
   "metadata": {},
   "outputs": [],
   "source": [
    "T1_guess, obj = crb_obj(T1, T2, 1.85, 10.75)\n",
    "print((T1_guess, obj))"
   ]
  },
  {
   "cell_type": "code",
   "execution_count": 15,
   "metadata": {},
   "outputs": [
    {
     "data": {
      "text/plain": [
       "5666.137354850769"
      ]
     },
     "execution_count": 15,
     "metadata": {},
     "output_type": "execute_result"
    }
   ],
   "source": [
    "elapsed_time"
   ]
  },
  {
   "cell_type": "code",
   "execution_count": 16,
   "metadata": {},
   "outputs": [
    {
     "name": "stdout",
     "output_type": "stream",
     "text": [
      "6\n",
      "[ 2.7911598  14.51538882]\n"
     ]
    }
   ],
   "source": [
    "fx_optimal_list_cut = fx_optimal_list[1::]\n",
    "x_optimal_list_cut = x_optimal_list[:, 1::]\n",
    "min_index = np.argmin(fx_optimal_list_cut)\n",
    "print(min_index)\n",
    "best_solution = x_optimal_list_cut[:, min_index]\n",
    "print(best_solution)"
   ]
  },
  {
   "cell_type": "code",
   "execution_count": null,
   "metadata": {},
   "outputs": [],
   "source": []
  },
  {
   "cell_type": "markdown",
   "metadata": {},
   "source": [
    "## Surface plot"
   ]
  },
  {
   "cell_type": "code",
   "execution_count": null,
   "metadata": {},
   "outputs": [],
   "source": [
    "# surface plot\n",
    "#KK = 38 # number of grid points on surf plot\n",
    "KK = 5\n",
    "alpha1s = alpha2s = np.linspace(1., 20., num=KK)\n",
    "X, Y = np.meshgrid(alpha1s, alpha2s)\n",
    "\n",
    "Z = np.ones_like(X)\n",
    "\n",
    "for xx in range(0, KK):\n",
    "    for yy in range(0, KK):\n",
    "        #if(xx > yy): # avoid where alphas are equal (gives nans), and the plot is symmetrical so use >\n",
    "        _angles = np.array([X[xx, yy], Y[xx, yy]])\n",
    "        Z[xx, yy] = crb_obj_wrapper(_angles, *(T1, T2))"
   ]
  },
  {
   "cell_type": "code",
   "execution_count": null,
   "metadata": {},
   "outputs": [],
   "source": [
    "from mpl_toolkits.mplot3d import Axes3D\n",
    "fig = plt.figure()\n",
    "ax = fig.add_subplot(111, projection='3d')\n",
    "ax.plot_surface(X, Y, np.log10(Z))\n",
    "\n",
    "ax.set_xlabel('alpha1')\n",
    "ax.set_ylabel('alpha2')\n",
    "ax.set_zlabel('crb')\n",
    "\n",
    "plt.title('log10 of crb')\n",
    "\n",
    "plt.show()"
   ]
  },
  {
   "cell_type": "code",
   "execution_count": null,
   "metadata": {},
   "outputs": [],
   "source": []
  }
 ],
 "metadata": {
  "kernelspec": {
   "display_name": "Python [conda env:tf3]",
   "language": "python",
   "name": "conda-env-tf3-py"
  },
  "language_info": {
   "codemirror_mode": {
    "name": "ipython",
    "version": 3
   },
   "file_extension": ".py",
   "mimetype": "text/x-python",
   "name": "python",
   "nbconvert_exporter": "python",
   "pygments_lexer": "ipython3",
   "version": "3.6.6"
  }
 },
 "nbformat": 4,
 "nbformat_minor": 2
}
